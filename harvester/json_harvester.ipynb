{
 "cells": [
  {
   "cell_type": "code",
   "execution_count": 12,
   "metadata": {},
   "outputs": [],
   "source": [
    "import sys\n",
    "import os\n",
    "sys.path.append(\"../util/\")\n",
    "import MapRegion\n",
    "import text_util\n",
    "import json"
   ]
  },
  {
   "cell_type": "code",
   "execution_count": 13,
   "metadata": {},
   "outputs": [],
   "source": [
    "def process_tweet(tweet_json):\n",
    "    if (tweet_json[\"doc\"][\"coordinates\"] is not None):\n",
    "        submitted_json = {}\n",
    "        submitted_json['id'] = tweet_json[\"doc\"][\"id\"]\n",
    "        submitted_json['created_at'] = tweet_json[\"doc\"][\"created_at\"]\n",
    "        submitted_json['text'] = text_util.preprocess_tweet(tweet_json[\"doc\"][\"text\"])\n",
    "        submitted_json['coordinates'] = [tweet_json[\"doc\"][\"coordinates\"][\"coordinates\"][1],\n",
    "                                        tweet_json[\"doc\"][\"coordinates\"][\"coordinates\"][0]]\n",
    "        \n",
    "        submitted_json['region'] = MapRegion.getCoordinateRegion(submitted_json['coordinates'])\n",
    "        if (submitted_json['text'] != \"\" and submitted_json['region'] is not None):\n",
    "            print(json.dumps(submitted_json))"
   ]
  },
  {
   "cell_type": "code",
   "execution_count": 14,
   "metadata": {},
   "outputs": [],
   "source": [
    "def parseJson(tweet_row):\n",
    "    try:\n",
    "        tweet_json = json.loads(line[:-3])\n",
    "        return tweet_json\n",
    "    except:\n",
    "        try:\n",
    "            tweet_json = json.loads(line[:-2])\n",
    "            return tweet_json\n",
    "        except:\n",
    "            return None\n"
   ]
  },
  {
   "cell_type": "code",
   "execution_count": 16,
   "metadata": {},
   "outputs": [
    {
     "name": "stdout",
     "output_type": "stream",
     "text": [
      "{\"text\": \"lots of great memories despite a challenging year new\", \"created_at\": \"Mon Jan 01 00:17:33 +0000 2018\", \"region\": \"Sydney (C)\", \"id\": 947622787111415800, \"coordinates\": [-33.8833, 151.225]}\n"
     ]
    }
   ],
   "source": [
    "with open(\"./teacher_db/twitter_sydney_1_1_1_2.json\",\"r\") as f:\n",
    "    for index, line in enumerate(f):\n",
    "        if (index > 1000):\n",
    "            break\n",
    "        tweet_json = parseJson(line)\n",
    "        if tweet_json is not None:\n",
    "            process_tweet(tweet_json)"
   ]
  },
  {
   "cell_type": "code",
   "execution_count": null,
   "metadata": {},
   "outputs": [],
   "source": []
  }
 ],
 "metadata": {
  "kernelspec": {
   "display_name": "Python 2",
   "language": "python",
   "name": "python2"
  },
  "language_info": {
   "codemirror_mode": {
    "name": "ipython",
    "version": 2
   },
   "file_extension": ".py",
   "mimetype": "text/x-python",
   "name": "python",
   "nbconvert_exporter": "python",
   "pygments_lexer": "ipython2",
   "version": "2.7.15"
  }
 },
 "nbformat": 4,
 "nbformat_minor": 2
}
