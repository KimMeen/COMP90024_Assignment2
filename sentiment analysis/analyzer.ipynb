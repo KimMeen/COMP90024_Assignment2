{
 "cells": [
  {
   "cell_type": "code",
   "execution_count": 1,
   "metadata": {},
   "outputs": [
    {
     "name": "stderr",
     "output_type": "stream",
     "text": [
      "Using TensorFlow backend.\n"
     ]
    }
   ],
   "source": [
    "import logging\n",
    "import couchdb\n",
    "import json\n",
    "import sys\n",
    "sys.path.append('./release')\n",
    "import sentiment_prediction as senti"
   ]
  },
  {
   "cell_type": "code",
   "execution_count": 2,
   "metadata": {},
   "outputs": [],
   "source": [
    "'''\n",
    "    Get the source db(the db created by harverster)\n",
    "    and the destination db (store the result)\n",
    "'''\n",
    "def get_db():\n",
    "    config = None\n",
    "    server = None\n",
    "    db = None\n",
    "    with open(\"db_config.json\") as cf:\n",
    "        config = json.load(cf)\n",
    "        try:\n",
    "            db_server = couchdb.Server(config[\"Servers\"][0])\n",
    "            source_db_name = config[\"DB\"][0]\n",
    "            dest_db_name = config[\"DB\"][1]\n",
    "            if dest_db_name in db_server:\n",
    "                logging.info(\"Database %s has existed, using the original one.\" %(dest_db_name))\n",
    "                dest_db = db_server[dest_db_name]\n",
    "            else:\n",
    "                logging.info(\"Database %s does not exist, creating a new one.\" %(dest_db_name))\n",
    "                dest_db = db_server.create(dest_db_name)\n",
    "            if source_db_name not in db_server:\n",
    "                logging.error(\"Database %s does not exist, something went wrong.\" %(source_db_name))\n",
    "                return\n",
    "            source_db = db_server[source_db_name]\n",
    "        except Exception as e:\n",
    "            logging.error(\"error happened: %s\" %e)\n",
    "            sys.exit(2)\n",
    "    return source_db,dest_db"
   ]
  },
  {
   "cell_type": "code",
   "execution_count": 3,
   "metadata": {},
   "outputs": [],
   "source": [
    "####################This is test part######################\n",
    "# import csv\n",
    "# source_db,dest_db = get_db()\n",
    "# csv_file = csv.reader(open(\"sentiment140-small.csv\"))\n",
    "# d = []\n",
    "# for i in csv_file:\n",
    "#     d.append({\"time\":i[2], \"raw_tweet\":i[5]})\n",
    "# source_db.update(d)"
   ]
  },
  {
   "cell_type": "code",
   "execution_count": 3,
   "metadata": {},
   "outputs": [],
   "source": [
    "'''\n",
    "    This is the excution part, the analysis result will be\n",
    "    stored into the dest db\n",
    "'''\n",
    "def analyze(source_db,dest_db,modelpath,pklpath,mode=\"Sentiment\"):\n",
    "    analysor = None\n",
    "    #more modes can be added here#\n",
    "    if mode == \"Sentiment\":\n",
    "        analysor = senti.sentianalysor(modelpath, pklpath, stemmer = False)\n",
    "        count = 0\n",
    "        result = []\n",
    "        for ele in source_db:\n",
    "            count += 1\n",
    "            time = source_db[ele][\"time\"]\n",
    "            raw_tweet = source_db[ele][\"raw_tweet\"]\n",
    "            label,proba = analysor.prediction(raw_tweet)\n",
    "            #0:NEGATIVE 1:POSITIVE\n",
    "            label_flag = 0 if label==\"NEGATIVE\" else 1\n",
    "            result.append({\"time\":time,\"raw_tweet\":raw_tweet,\"label\":label_flag,\"probability\":proba})\n",
    "            if count == 100:\n",
    "                dest_db.update(result)\n",
    "                count = 0\n",
    "                result = []\n",
    "        if count != 0 and len(result) != 0:\n",
    "            dest_db.update(result)\n",
    "        print(\"Analyze successfully.\")"
   ]
  },
  {
   "cell_type": "code",
   "execution_count": 4,
   "metadata": {},
   "outputs": [
    {
     "name": "stdout",
     "output_type": "stream",
     "text": [
      "WARNING:tensorflow:From D:\\Software\\Anaconda3\\lib\\site-packages\\tensorflow\\python\\framework\\op_def_library.py:263: colocate_with (from tensorflow.python.framework.ops) is deprecated and will be removed in a future version.\n",
      "Instructions for updating:\n",
      "Colocations handled automatically by placer.\n"
     ]
    },
    {
     "name": "stderr",
     "output_type": "stream",
     "text": [
      "WARNING:tensorflow:From D:\\Software\\Anaconda3\\lib\\site-packages\\tensorflow\\python\\framework\\op_def_library.py:263: colocate_with (from tensorflow.python.framework.ops) is deprecated and will be removed in a future version.\n",
      "Instructions for updating:\n",
      "Colocations handled automatically by placer.\n"
     ]
    },
    {
     "name": "stdout",
     "output_type": "stream",
     "text": [
      "WARNING:tensorflow:From D:\\Software\\Anaconda3\\lib\\site-packages\\keras\\backend\\tensorflow_backend.py:3445: calling dropout (from tensorflow.python.ops.nn_ops) with keep_prob is deprecated and will be removed in a future version.\n",
      "Instructions for updating:\n",
      "Please use `rate` instead of `keep_prob`. Rate should be set to `rate = 1 - keep_prob`.\n"
     ]
    },
    {
     "name": "stderr",
     "output_type": "stream",
     "text": [
      "WARNING:tensorflow:From D:\\Software\\Anaconda3\\lib\\site-packages\\keras\\backend\\tensorflow_backend.py:3445: calling dropout (from tensorflow.python.ops.nn_ops) with keep_prob is deprecated and will be removed in a future version.\n",
      "Instructions for updating:\n",
      "Please use `rate` instead of `keep_prob`. Rate should be set to `rate = 1 - keep_prob`.\n"
     ]
    },
    {
     "name": "stdout",
     "output_type": "stream",
     "text": [
      "WARNING:tensorflow:From D:\\Software\\Anaconda3\\lib\\site-packages\\tensorflow\\python\\ops\\math_ops.py:3066: to_int32 (from tensorflow.python.ops.math_ops) is deprecated and will be removed in a future version.\n",
      "Instructions for updating:\n",
      "Use tf.cast instead.\n"
     ]
    },
    {
     "name": "stderr",
     "output_type": "stream",
     "text": [
      "WARNING:tensorflow:From D:\\Software\\Anaconda3\\lib\\site-packages\\tensorflow\\python\\ops\\math_ops.py:3066: to_int32 (from tensorflow.python.ops.math_ops) is deprecated and will be removed in a future version.\n",
      "Instructions for updating:\n",
      "Use tf.cast instead.\n"
     ]
    },
    {
     "name": "stdout",
     "output_type": "stream",
     "text": [
      "Analyze successfully.\n"
     ]
    }
   ],
   "source": [
    "if __name__ == \"__main__\":\n",
    "    modelpath = './model/sentiment_lstm.h5'\n",
    "    pklpath = './model/sentiment140-freqdist.pkl'\n",
    "    source_db,dest_db = get_db()\n",
    "    analyze(source_db,dest_db,modelpath,pklpath)"
   ]
  },
  {
   "cell_type": "code",
   "execution_count": null,
   "metadata": {},
   "outputs": [],
   "source": []
  }
 ],
 "metadata": {
  "kernelspec": {
   "display_name": "Python 3",
   "language": "python",
   "name": "python3"
  },
  "language_info": {
   "codemirror_mode": {
    "name": "ipython",
    "version": 3
   },
   "file_extension": ".py",
   "mimetype": "text/x-python",
   "name": "python",
   "nbconvert_exporter": "python",
   "pygments_lexer": "ipython3",
   "version": "3.7.1"
  }
 },
 "nbformat": 4,
 "nbformat_minor": 2
}
