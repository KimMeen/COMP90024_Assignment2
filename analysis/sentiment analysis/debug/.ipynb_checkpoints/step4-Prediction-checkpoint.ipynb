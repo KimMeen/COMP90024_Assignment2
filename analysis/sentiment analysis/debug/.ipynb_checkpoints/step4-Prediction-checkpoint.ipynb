{
 "cells": [
  {
   "cell_type": "code",
   "execution_count": 1,
   "metadata": {},
   "outputs": [
    {
     "name": "stderr",
     "output_type": "stream",
     "text": [
      "Using TensorFlow backend.\n"
     ]
    }
   ],
   "source": [
    "import numpy as np\n",
    "import sys\n",
    "import pickle\n",
    "import tensorflow as tf\n",
    "from tensorflow.keras import layers\n",
    "from keras.preprocessing.sequence import pad_sequences\n",
    "from keras.utils import CustomObjectScope\n",
    "from keras.models import load_model\n",
    "from keras.initializers import glorot_uniform"
   ]
  },
  {
   "cell_type": "code",
   "execution_count": 2,
   "metadata": {},
   "outputs": [
    {
     "name": "stdout",
     "output_type": "stream",
     "text": [
      "_________________________________________________________________\n",
      "Layer (type)                 Output Shape              Param #   \n",
      "=================================================================\n",
      "embedding (Embedding)        (None, 60, 200)           18000200  \n",
      "_________________________________________________________________\n",
      "dropout (Dropout)            (None, 60, 200)           0         \n",
      "_________________________________________________________________\n",
      "lstm (LSTM)                  (None, 128)               168448    \n",
      "_________________________________________________________________\n",
      "dense (Dense)                (None, 64)                8256      \n",
      "_________________________________________________________________\n",
      "dropout_1 (Dropout)          (None, 64)                0         \n",
      "_________________________________________________________________\n",
      "activation (Activation)      (None, 64)                0         \n",
      "_________________________________________________________________\n",
      "dense_1 (Dense)              (None, 1)                 65        \n",
      "_________________________________________________________________\n",
      "activation_1 (Activation)    (None, 1)                 0         \n",
      "=================================================================\n",
      "Total params: 18,176,969\n",
      "Trainable params: 18,176,969\n",
      "Non-trainable params: 0\n",
      "_________________________________________________________________\n"
     ]
    }
   ],
   "source": [
    "# Load the model\n",
    "\n",
    "with CustomObjectScope({'GlorotUniform': glorot_uniform()}):\n",
    "    model = load_model('sentiment_lstm.h5')\n",
    "model.summary()"
   ]
  },
  {
   "cell_type": "code",
   "execution_count": 3,
   "metadata": {},
   "outputs": [],
   "source": [
    "# Define some helper functions\n",
    "\n",
    "unigrams_file = '/home/mingj/project/tweet_training_data/large/sentiment140-freqdist.pkl'\n",
    "label = ['NEGATIVE', 'POSITIVE']\n",
    "\n",
    "def top_n_words(pkl_file_name, N, shift=0):\n",
    "    with open(pkl_file_name, 'rb') as pkl_file:\n",
    "        freq_dist = pickle.load(pkl_file)\n",
    "    most_common = freq_dist.most_common(N)\n",
    "    words = {p[0]: i + shift for i, p in enumerate(most_common)}\n",
    "    return words\n",
    "\n",
    "def get_feature_vector(tweet):\n",
    "    words = tweet.split()\n",
    "    feature_vector = []\n",
    "    for i in range(len(words) - 1):\n",
    "        word = words[i]\n",
    "        if vocab.get(word) is not None:\n",
    "            feature_vector.append(vocab.get(word))\n",
    "    if len(words) >= 1:\n",
    "        if vocab.get(words[-1]) is not None:\n",
    "            feature_vector.append(vocab.get(words[-1]))\n",
    "    return feature_vector"
   ]
  },
  {
   "cell_type": "code",
   "execution_count": 4,
   "metadata": {},
   "outputs": [
    {
     "name": "stdout",
     "output_type": "stream",
     "text": [
      "\r",
      "1/1 [==============================] - 0s 233ms/step\n"
     ]
    }
   ],
   "source": [
    "# Predict on a single tweet\n",
    "\n",
    "test_tweet = 'what a stupid leader'\n",
    "\n",
    "# some params\n",
    "max_length = 60\n",
    "vocab_size = 90000\n",
    "vocab = top_n_words(unigrams_file, vocab_size, shift=1)\n",
    "\n",
    "# generate feature vector\n",
    "test_tweet_vector = get_feature_vector(test_tweet)\n",
    "test_tweet_vector = np.reshape(test_tweet_vector, (1, len(test_tweet_vector)))\n",
    "test_tweet_vector = pad_sequences(test_tweet_vector, maxlen = max_length, padding = 'post')\n",
    "predictions = model.predict(test_tweet_vector, batch_size=128, verbose=1)\n",
    "results = label[np.round(predictions[:, 0]).astype(int)[0]]"
   ]
  },
  {
   "cell_type": "code",
   "execution_count": 5,
   "metadata": {},
   "outputs": [
    {
     "name": "stdout",
     "output_type": "stream",
     "text": [
      "A.I. Prediction: This sentence seems a NEGATIVE one.\n"
     ]
    }
   ],
   "source": [
    "print('A.I. Prediction: This sentence seems a', results, 'one.')"
   ]
  },
  {
   "cell_type": "code",
   "execution_count": 6,
   "metadata": {},
   "outputs": [
    {
     "name": "stdout",
     "output_type": "stream",
     "text": [
      "\r",
      "1/1 [==============================] - 0s 14ms/step\n"
     ]
    }
   ],
   "source": [
    "# Predict on a single tweet\n",
    "\n",
    "test_tweet = 'what a beautiful world'\n",
    "\n",
    "# some params\n",
    "max_length = 60\n",
    "vocab_size = 90000\n",
    "vocab = top_n_words(unigrams_file, vocab_size, shift=1)\n",
    "\n",
    "# generate feature vector\n",
    "test_tweet_vector = get_feature_vector(test_tweet)\n",
    "test_tweet_vector = np.reshape(test_tweet_vector, (1, len(test_tweet_vector)))\n",
    "test_tweet_vector = pad_sequences(test_tweet_vector, maxlen = max_length, padding = 'post')\n",
    "predictions = model.predict(test_tweet_vector, batch_size=128, verbose=1)\n",
    "results = label[np.round(predictions[:, 0]).astype(int)[0]]"
   ]
  },
  {
   "cell_type": "code",
   "execution_count": 7,
   "metadata": {},
   "outputs": [
    {
     "name": "stdout",
     "output_type": "stream",
     "text": [
      "A.I. Prediction: This sentence seems a POSITIVE one.\n"
     ]
    }
   ],
   "source": [
    "print('A.I. Prediction: This sentence seems a', results, 'one.')"
   ]
  }
 ],
 "metadata": {
  "kernelspec": {
   "display_name": "Python 3",
   "language": "python",
   "name": "python3"
  },
  "language_info": {
   "codemirror_mode": {
    "name": "ipython",
    "version": 3
   },
   "file_extension": ".py",
   "mimetype": "text/x-python",
   "name": "python",
   "nbconvert_exporter": "python",
   "pygments_lexer": "ipython3",
   "version": "3.6.8"
  }
 },
 "nbformat": 4,
 "nbformat_minor": 2
}
