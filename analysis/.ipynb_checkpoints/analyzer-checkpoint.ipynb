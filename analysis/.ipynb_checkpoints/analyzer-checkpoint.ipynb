{
 "cells": [
  {
   "cell_type": "code",
   "execution_count": 9,
   "metadata": {},
   "outputs": [],
   "source": [
    "import logging\n",
    "import couchdb\n",
    "import json\n",
    "import sys\n",
    "sys.path.append('./sentiment analysis/release')\n",
    "import sentiment_prediction as senti\n",
    "sys.path.append('./topic analysis')\n",
    "import scorer\n",
    "# sys.path.append('../util')\n",
    "# import MapRegion"
   ]
  },
  {
   "cell_type": "code",
   "execution_count": 10,
   "metadata": {},
   "outputs": [],
   "source": [
    "'''\n",
    "    Get the source db(the db created by harverster)\n",
    "    and the destination db (store the result)\n",
    "'''\n",
    "def get_db():\n",
    "    config = None\n",
    "    server = None\n",
    "    db = None\n",
    "    with open(\"db_config.json\") as cf:\n",
    "        config = json.load(cf)\n",
    "        try:\n",
    "            db_server = couchdb.Server(config[\"Servers\"][0])\n",
    "            source_db_name = config[\"DB\"][0]\n",
    "            dest_db_name = config[\"DB\"][1]\n",
    "            if dest_db_name in db_server:\n",
    "                logging.info(\"Database %s has existed, creating a new one.\" %(dest_db_name))\n",
    "                db_server.delete(dest_db_name)\n",
    "                dest_db = db_server.create(dest_db_name)\n",
    "            else:\n",
    "                logging.info(\"Database %s does not exist, creating a new one.\" %(dest_db_name))\n",
    "                dest_db = db_server.create(dest_db_name)\n",
    "            if source_db_name not in db_server:\n",
    "                logging.error(\"Database %s does not exist, something went wrong.\" %(source_db_name))\n",
    "                return\n",
    "            source_db = db_server[source_db_name]\n",
    "        except Exception as e:\n",
    "            logging.error(\"error happened: %s\" %e)\n",
    "            sys.exit(2)\n",
    "    return source_db,dest_db"
   ]
  },
  {
   "cell_type": "code",
   "execution_count": 13,
   "metadata": {},
   "outputs": [],
   "source": [
    "'''\n",
    "    This is the excution part, the analysis result will be\n",
    "    stored into the dest db\n",
    "'''\n",
    "def analyze(source_db,dest_db,modelpath,pklpath):\n",
    "    analysor = senti.sentianalysor(modelpath, pklpath, stemmer = False)\n",
    "    topic_scorer = []\n",
    "    alcohols_dict = \"./topic analysis/dictionary/alcohols.txt\"\n",
    "    fastfood_dict = \"./topic analysis/dictionary/fastfood.txt\"\n",
    "    smoking_dict = \"./topic analysis/dictionary/smoking.txt\"\n",
    "    alcohols_scorer = scorer.Scorer(analysor,alcohols_dict)\n",
    "    fastfood_scorer = scorer.Scorer(analysor,fastfood_dict)\n",
    "    smoking_scorer = scorer.Scorer(analysor,alcohols_dict)\n",
    "    count = 0\n",
    "    result = []\n",
    "    for ele in source_db:\n",
    "        count += 1\n",
    "        created_at = source_db[ele][\"created_at\"]\n",
    "        raw_text = source_db[ele][\"text\"]\n",
    "        location = source_db[ele][\"location\"]\n",
    "        coordinates = source_db[ele][\"coordinates\"]\n",
    "        label,proba = analysor.prediction(raw_text)\n",
    "        new_text = analysor.preprocess_tweet(raw_text)\n",
    "        #0:NEGATIVE 1:POSITIVE\n",
    "        label_flag = 0 if label==\"NEGATIVE\" else 1\n",
    "        #Some problems loading MapRegion\n",
    "        region = None\n",
    "        alcohols_sc = alcohols_scorer.get_score(new_text,\"POSITIVE\")\n",
    "        fastfood_sc = fastfood_scorer.get_score(new_text,\"POSITIVE\")\n",
    "        smoking_sc = smoking_scorer.get_score(new_text,\"POSITIVE\")\n",
    "        result.append({\"created_at\":created_at,\"text\":new_text,\"label\":label_flag,\"probability\":proba,\n",
    "                       \"alcohols_score\":alcohols_sc,\"fastfood_score\":fastfood_sc,\"smoking_score\":smoking_sc})\n",
    "        if count == 100:\n",
    "            dest_db.update(result)\n",
    "            count = 0\n",
    "            result = []\n",
    "        print(count)\n",
    "    if count != 0 and len(result) != 0:\n",
    "        dest_db.update(result)\n",
    "    print(\"Analyze successfully.\")"
   ]
  },
  {
   "cell_type": "code",
   "execution_count": 14,
   "metadata": {},
   "outputs": [
    {
     "ename": "NameError",
     "evalue": "name 'new_tweet' is not defined",
     "output_type": "error",
     "traceback": [
      "\u001b[1;31m---------------------------------------------------------------------------\u001b[0m",
      "\u001b[1;31mNameError\u001b[0m                                 Traceback (most recent call last)",
      "\u001b[1;32m<ipython-input-14-e9d68ac9e9ac>\u001b[0m in \u001b[0;36m<module>\u001b[1;34m\u001b[0m\n\u001b[0;32m      3\u001b[0m     \u001b[0mpklpath\u001b[0m \u001b[1;33m=\u001b[0m \u001b[1;34m'./sentiment analysis/model/sentiment140-freqdist.pkl'\u001b[0m\u001b[1;33m\u001b[0m\u001b[1;33m\u001b[0m\u001b[0m\n\u001b[0;32m      4\u001b[0m     \u001b[0msource_db\u001b[0m\u001b[1;33m,\u001b[0m\u001b[0mdest_db\u001b[0m \u001b[1;33m=\u001b[0m \u001b[0mget_db\u001b[0m\u001b[1;33m(\u001b[0m\u001b[1;33m)\u001b[0m\u001b[1;33m\u001b[0m\u001b[1;33m\u001b[0m\u001b[0m\n\u001b[1;32m----> 5\u001b[1;33m     \u001b[0manalyze\u001b[0m\u001b[1;33m(\u001b[0m\u001b[0msource_db\u001b[0m\u001b[1;33m,\u001b[0m\u001b[0mdest_db\u001b[0m\u001b[1;33m,\u001b[0m\u001b[0mmodelpath\u001b[0m\u001b[1;33m,\u001b[0m\u001b[0mpklpath\u001b[0m\u001b[1;33m)\u001b[0m\u001b[1;33m\u001b[0m\u001b[1;33m\u001b[0m\u001b[0m\n\u001b[0m",
      "\u001b[1;32m<ipython-input-13-653fbb82c981>\u001b[0m in \u001b[0;36manalyze\u001b[1;34m(source_db, dest_db, modelpath, pklpath)\u001b[0m\n\u001b[0;32m     29\u001b[0m         \u001b[0mfastfood_sc\u001b[0m \u001b[1;33m=\u001b[0m \u001b[0mfastfood_scorer\u001b[0m\u001b[1;33m.\u001b[0m\u001b[0mget_score\u001b[0m\u001b[1;33m(\u001b[0m\u001b[0mnew_text\u001b[0m\u001b[1;33m,\u001b[0m\u001b[1;34m\"POSITIVE\"\u001b[0m\u001b[1;33m)\u001b[0m\u001b[1;33m\u001b[0m\u001b[1;33m\u001b[0m\u001b[0m\n\u001b[0;32m     30\u001b[0m         \u001b[0msmoking_sc\u001b[0m \u001b[1;33m=\u001b[0m \u001b[0msmoking_scorer\u001b[0m\u001b[1;33m.\u001b[0m\u001b[0mget_score\u001b[0m\u001b[1;33m(\u001b[0m\u001b[0mnew_text\u001b[0m\u001b[1;33m,\u001b[0m\u001b[1;34m\"POSITIVE\"\u001b[0m\u001b[1;33m)\u001b[0m\u001b[1;33m\u001b[0m\u001b[1;33m\u001b[0m\u001b[0m\n\u001b[1;32m---> 31\u001b[1;33m         result.append({\"created_at\":created_at,\"text\":new_tweet,\"label\":label_flag,\"probability\":proba,\n\u001b[0m\u001b[0;32m     32\u001b[0m                        \"alcohols_score\":alcohols_sc,\"fastfood_score\":fastfood_sc,\"smoking_score\":smoking_sc})\n\u001b[0;32m     33\u001b[0m         \u001b[1;32mif\u001b[0m \u001b[0mcount\u001b[0m \u001b[1;33m==\u001b[0m \u001b[1;36m100\u001b[0m\u001b[1;33m:\u001b[0m\u001b[1;33m\u001b[0m\u001b[1;33m\u001b[0m\u001b[0m\n",
      "\u001b[1;31mNameError\u001b[0m: name 'new_tweet' is not defined"
     ]
    }
   ],
   "source": [
    "if __name__ == \"__main__\":\n",
    "    modelpath = './sentiment analysis/model/sentiment_lstm.h5'\n",
    "    pklpath = './sentiment analysis/model/sentiment140-freqdist.pkl'\n",
    "    source_db,dest_db = get_db()\n",
    "    analyze(source_db,dest_db,modelpath,pklpath)"
   ]
  },
  {
   "cell_type": "code",
   "execution_count": null,
   "metadata": {},
   "outputs": [],
   "source": []
  }
 ],
 "metadata": {
  "kernelspec": {
   "display_name": "Python 3",
   "language": "python",
   "name": "python3"
  },
  "language_info": {
   "codemirror_mode": {
    "name": "ipython",
    "version": 3
   },
   "file_extension": ".py",
   "mimetype": "text/x-python",
   "name": "python",
   "nbconvert_exporter": "python",
   "pygments_lexer": "ipython3",
   "version": "3.7.1"
  }
 },
 "nbformat": 4,
 "nbformat_minor": 2
}
