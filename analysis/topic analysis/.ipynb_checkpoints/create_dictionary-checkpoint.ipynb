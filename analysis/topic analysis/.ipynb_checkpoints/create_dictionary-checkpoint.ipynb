{
 "cells": [
  {
   "cell_type": "code",
   "execution_count": 1,
   "metadata": {},
   "outputs": [],
   "source": [
    "import requests\n",
    "import queue"
   ]
  },
  {
   "cell_type": "code",
   "execution_count": 2,
   "metadata": {},
   "outputs": [],
   "source": [
    "'''\n",
    "    A basic function that gets the related words\n",
    "    derived from concept net API.\n",
    "    This function is used as a baseline only.\n",
    "'''\n",
    "def get_related(key_word):\n",
    "    result = {}\n",
    "    obj = requests.get('http://api.conceptnet.io/related/c/en/'+key_word+'?filter=/c/en').json()\n",
    "    for relate in obj['related']:\n",
    "        related_word = relate['@id'].lstrip('/c/en/')\n",
    "        related_weight = relate['weight']\n",
    "        result.update({related_word:related_weight})\n",
    "    return result"
   ]
  },
  {
   "cell_type": "code",
   "execution_count": 3,
   "metadata": {},
   "outputs": [],
   "source": [
    "'''\n",
    "    Using queue to get the related words recursively\n",
    "    limit: set the upper limit of the related word number\n",
    "'''\n",
    "def get_all_related(key_word,limit=100):\n",
    "    result = {key_word:1}\n",
    "    q = queue.PriorityQueue()\n",
    "    q.put((-1,key_word))\n",
    "    count = 0\n",
    "    while (not q.empty() and count <= limit):\n",
    "        ele = q.get()\n",
    "        word = ele[1]\n",
    "        weight = -ele[0]\n",
    "        obj = requests.get('http://api.conceptnet.io/related/c/en/'+word+'?filter=/c/en').json()\n",
    "        for relate in obj['related']:\n",
    "            related_word = relate['@id'].lstrip('/c/en/')\n",
    "            if related_word not in result:\n",
    "                #print(\"%s can be added\" %related_word)\n",
    "                related_weight = relate['weight']\n",
    "                result.update({related_word:related_weight * weight})\n",
    "                q.put((-related_weight * weight,related_word))\n",
    "                count += 1\n",
    "            else:\n",
    "                #print(\"%s cannot be added since it's duplicated\" %related_word)\n",
    "                pass\n",
    "    #rank the result by weight\n",
    "    result_order_list=sorted(result.items(),key=lambda x:x[1],reverse=True)\n",
    "    result_order_dict = dict(result_order_list)\n",
    "    return result_order_dict"
   ]
  },
  {
   "cell_type": "code",
   "execution_count": 4,
   "metadata": {},
   "outputs": [],
   "source": [
    "\"\"\"\n",
    "    store the result into a txt file\n",
    "\"\"\"\n",
    "def store_in_txt(result, filepath):\n",
    "    f = open(filepath, \"a+\")\n",
    "    for word,weight in result.items():\n",
    "        f.write(word+\" \"+str(weight)+\"\\n\")"
   ]
  },
  {
   "cell_type": "code",
   "execution_count": 7,
   "metadata": {},
   "outputs": [
    {
     "name": "stdout",
     "output_type": "stream",
     "text": [
      "done\n"
     ]
    }
   ],
   "source": [
    "if __name__ == \"__main__\":\n",
    "    result = get_all_related(\"smoking\",150)\n",
    "    store_in_txt(result,\"smoking.txt\")\n",
    "    print(\"done\")"
   ]
  },
  {
   "cell_type": "code",
   "execution_count": null,
   "metadata": {},
   "outputs": [],
   "source": []
  }
 ],
 "metadata": {
  "kernelspec": {
   "display_name": "Python 3",
   "language": "python",
   "name": "python3"
  },
  "language_info": {
   "codemirror_mode": {
    "name": "ipython",
    "version": 3
   },
   "file_extension": ".py",
   "mimetype": "text/x-python",
   "name": "python",
   "nbconvert_exporter": "python",
   "pygments_lexer": "ipython3",
   "version": "3.6.7"
  }
 },
 "nbformat": 4,
 "nbformat_minor": 2
}
