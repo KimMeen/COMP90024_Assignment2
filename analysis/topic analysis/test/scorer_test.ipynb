{
 "cells": [
  {
   "cell_type": "code",
   "execution_count": 1,
   "metadata": {},
   "outputs": [
    {
     "name": "stderr",
     "output_type": "stream",
     "text": [
      "Using TensorFlow backend.\n"
     ]
    }
   ],
   "source": [
    "import sys\n",
    "sys.path.append('../../sentiment analysis/release')\n",
    "import sentiment_prediction as senti\n",
    "sys.path.append('../../topic analysis')\n",
    "import scorer"
   ]
  },
  {
   "cell_type": "markdown",
   "metadata": {},
   "source": [
    "# This is a demonstration of how to use scorer.py to get score"
   ]
  },
  {
   "cell_type": "code",
   "execution_count": 2,
   "metadata": {},
   "outputs": [
    {
     "name": "stdout",
     "output_type": "stream",
     "text": [
      "WARNING:tensorflow:From D:\\Software\\Anaconda3\\lib\\site-packages\\tensorflow\\python\\framework\\op_def_library.py:263: colocate_with (from tensorflow.python.framework.ops) is deprecated and will be removed in a future version.\n",
      "Instructions for updating:\n",
      "Colocations handled automatically by placer.\n",
      "WARNING:tensorflow:From D:\\Software\\Anaconda3\\lib\\site-packages\\keras\\backend\\tensorflow_backend.py:3445: calling dropout (from tensorflow.python.ops.nn_ops) with keep_prob is deprecated and will be removed in a future version.\n",
      "Instructions for updating:\n",
      "Please use `rate` instead of `keep_prob`. Rate should be set to `rate = 1 - keep_prob`.\n",
      "WARNING:tensorflow:From D:\\Software\\Anaconda3\\lib\\site-packages\\tensorflow\\python\\ops\\math_ops.py:3066: to_int32 (from tensorflow.python.ops.math_ops) is deprecated and will be removed in a future version.\n",
      "Instructions for updating:\n",
      "Use tf.cast instead.\n"
     ]
    }
   ],
   "source": [
    "fastfood_dictionary = '../dictionary/fastfood.txt'\n",
    "smoking_dictionary = '../dictionary/smoking.txt'\n",
    "alcohols_dictionary = '../dictionary/alcohols.txt'\n",
    "\n",
    "modelpath = '../../sentiment analysis/model/sentiment_lstm.h5'\n",
    "pklpath = '.../../sentiment analysis/model/sentiment140-freqdist.pkl'\n",
    "analysor = senti.sentianalysor(modelpath, pklpath, stemmer = False)"
   ]
  },
  {
   "cell_type": "code",
   "execution_count": 5,
   "metadata": {},
   "outputs": [
    {
     "name": "stdout",
     "output_type": "stream",
     "text": [
      "1.8664179067015647\n",
      "0.0\n",
      "0.0\n"
     ]
    }
   ],
   "source": [
    "tweet = 'I am the fan of burger king cos its really delicious!'\n",
    "fastfood_scorer = scorer.Scorer(analysor,fastfood_dictionary)\n",
    "ff_score = fastfood_scorer.get_score(tweet=tweet,intended_sentiment=\"POSITIVE\")\n",
    "smoke_scorer = scorer.Scorer(analysor,smoking_dictionary)\n",
    "sk_score = smoke_scorer.get_score(tweet=tweet,intended_sentiment=\"POSITIVE\")\n",
    "drink_scorer = scorer.Scorer(analysor,alcohols_dictionary)\n",
    "dk_score = drink_scorer.get_score(tweet=tweet,intended_sentiment=\"POSITIVE\")\n",
    "print(ff_score)\n",
    "print(sk_score)\n",
    "print(dk_score)"
   ]
  },
  {
   "cell_type": "code",
   "execution_count": null,
   "metadata": {},
   "outputs": [],
   "source": []
  }
 ],
 "metadata": {
  "kernelspec": {
   "display_name": "Python 3",
   "language": "python",
   "name": "python3"
  },
  "language_info": {
   "codemirror_mode": {
    "name": "ipython",
    "version": 3
   },
   "file_extension": ".py",
   "mimetype": "text/x-python",
   "name": "python",
   "nbconvert_exporter": "python",
   "pygments_lexer": "ipython3",
   "version": "3.7.1"
  }
 },
 "nbformat": 4,
 "nbformat_minor": 2
}
